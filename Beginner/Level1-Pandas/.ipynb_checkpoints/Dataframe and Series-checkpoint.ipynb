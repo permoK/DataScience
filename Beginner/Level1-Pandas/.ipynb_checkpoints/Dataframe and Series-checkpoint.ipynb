{
 "cells": [
  {
   "cell_type": "code",
   "execution_count": 1,
   "id": "d11214ac-fed0-4b8e-94ea-3c33abad16d1",
   "metadata": {},
   "outputs": [],
   "source": [
    "import pandas as pd"
   ]
  },
  {
   "cell_type": "code",
   "execution_count": 2,
   "id": "9ae5a782-49e2-4cbf-be2d-a8c0aaad33df",
   "metadata": {},
   "outputs": [],
   "source": [
    "#create a sample data using Dataframe\n",
    "\n",
    "df = pd.DataFrame(\n",
    "    {\n",
    "        \"Name\":[\"perminus\", \"michael\", \"william\"],\n",
    "        \"Age\": [22, 22, 21],\n",
    "        \"Sex\": [\"male\", \"male\", \"male\"],\n",
    "    }\n",
    ")"
   ]
  },
  {
   "cell_type": "code",
   "execution_count": 3,
   "id": "e593d146-1cd2-4114-ad95-f0f766d7854d",
   "metadata": {},
   "outputs": [
    {
     "name": "stdout",
     "output_type": "stream",
     "text": [
      "       Name  Age   Sex\n",
      "0  perminus   22  male\n",
      "1   michael   22  male\n",
      "2   william   21  male\n"
     ]
    }
   ],
   "source": [
    "#To print all the data in the dataframe\n",
    "print(df)\n"
   ]
  },
  {
   "cell_type": "code",
   "execution_count": 4,
   "id": "72ae3174-036d-49df-93a6-03034814ec93",
   "metadata": {},
   "outputs": [
    {
     "name": "stdout",
     "output_type": "stream",
     "text": [
      "0    22\n",
      "1    22\n",
      "2    21\n",
      "Name: Age, dtype: int64\n"
     ]
    }
   ],
   "source": [
    "#To print single columns only( Use the `df[]`)==Also known as a Series\n",
    "print(df[\"Age\"])"
   ]
  },
  {
   "cell_type": "code",
   "execution_count": 5,
   "id": "07876749-c9fe-43e2-b7e9-b596616de2bd",
   "metadata": {},
   "outputs": [
    {
     "name": "stdout",
     "output_type": "stream",
     "text": [
      "0    21\n",
      "1    21\n",
      "2    22\n",
      "Name: Age, dtype: int64\n"
     ]
    }
   ],
   "source": [
    "#To create a series(column) from scratch\n",
    "age = pd.Series([21,21,22],name=\"Age\")\n",
    "\n",
    "print(age)"
   ]
  },
  {
   "cell_type": "code",
   "execution_count": 10,
   "id": "60bff49f-d4ff-4087-8800-a99dc82641ed",
   "metadata": {},
   "outputs": [
    {
     "name": "stdout",
     "output_type": "stream",
     "text": [
      "22\n"
     ]
    }
   ],
   "source": [
    "#gettin the maximum age - .max()\n",
    "\n",
    "maximum_Age = df[\"Age\"].max()\n",
    "\n",
    "#Or for the series\n",
    "maximum_Age = age.max()\n",
    "print(maximum_Age)"
   ]
  },
  {
   "cell_type": "code",
   "execution_count": 11,
   "id": "5c0454f4-5303-40d8-bb5e-ae7cd6e7bc1d",
   "metadata": {},
   "outputs": [
    {
     "data": {
      "text/html": [
       "<div>\n",
       "<style scoped>\n",
       "    .dataframe tbody tr th:only-of-type {\n",
       "        vertical-align: middle;\n",
       "    }\n",
       "\n",
       "    .dataframe tbody tr th {\n",
       "        vertical-align: top;\n",
       "    }\n",
       "\n",
       "    .dataframe thead th {\n",
       "        text-align: right;\n",
       "    }\n",
       "</style>\n",
       "<table border=\"1\" class=\"dataframe\">\n",
       "  <thead>\n",
       "    <tr style=\"text-align: right;\">\n",
       "      <th></th>\n",
       "      <th>Age</th>\n",
       "    </tr>\n",
       "  </thead>\n",
       "  <tbody>\n",
       "    <tr>\n",
       "      <th>count</th>\n",
       "      <td>3.000000</td>\n",
       "    </tr>\n",
       "    <tr>\n",
       "      <th>mean</th>\n",
       "      <td>21.666667</td>\n",
       "    </tr>\n",
       "    <tr>\n",
       "      <th>std</th>\n",
       "      <td>0.577350</td>\n",
       "    </tr>\n",
       "    <tr>\n",
       "      <th>min</th>\n",
       "      <td>21.000000</td>\n",
       "    </tr>\n",
       "    <tr>\n",
       "      <th>25%</th>\n",
       "      <td>21.500000</td>\n",
       "    </tr>\n",
       "    <tr>\n",
       "      <th>50%</th>\n",
       "      <td>22.000000</td>\n",
       "    </tr>\n",
       "    <tr>\n",
       "      <th>75%</th>\n",
       "      <td>22.000000</td>\n",
       "    </tr>\n",
       "    <tr>\n",
       "      <th>max</th>\n",
       "      <td>22.000000</td>\n",
       "    </tr>\n",
       "  </tbody>\n",
       "</table>\n",
       "</div>"
      ],
      "text/plain": [
       "             Age\n",
       "count   3.000000\n",
       "mean   21.666667\n",
       "std     0.577350\n",
       "min    21.000000\n",
       "25%    21.500000\n",
       "50%    22.000000\n",
       "75%    22.000000\n",
       "max    22.000000"
      ]
     },
     "execution_count": 11,
     "metadata": {},
     "output_type": "execute_result"
    }
   ],
   "source": [
    "#Statistical analysis of the available numerical data in the dataframe\n",
    "df.describe()\n"
   ]
  },
  {
   "cell_type": "code",
   "execution_count": null,
   "id": "c0380d4a-499d-469a-a11f-e73e0c1d16ce",
   "metadata": {},
   "outputs": [],
   "source": [
    "REMEMBER\n",
    "Import the package, aka import pandas as pd\n",
    "\n",
    "A table of data is stored as a pandas DataFrame\n",
    "\n",
    "Each column in a DataFrame is a Series\n",
    "\n",
    "You can do things by applying a method to a DataFrame or Series"
   ]
  }
 ],
 "metadata": {
  "kernelspec": {
   "display_name": "Python 3 (ipykernel)",
   "language": "python",
   "name": "python3"
  },
  "language_info": {
   "codemirror_mode": {
    "name": "ipython",
    "version": 3
   },
   "file_extension": ".py",
   "mimetype": "text/x-python",
   "name": "python",
   "nbconvert_exporter": "python",
   "pygments_lexer": "ipython3",
   "version": "3.11.8"
  }
 },
 "nbformat": 4,
 "nbformat_minor": 5
}
