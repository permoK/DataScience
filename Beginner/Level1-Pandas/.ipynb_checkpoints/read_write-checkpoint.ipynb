{
 "cells": [
  {
   "cell_type": "code",
   "execution_count": null,
   "id": "d29cb9cd-d61d-46f2-933e-753783a7c219",
   "metadata": {},
   "outputs": [],
   "source": [
    "\n",
    "import pandas as pd\n"
   ]
  },
  {
   "cell_type": "code",
   "execution_count": null,
   "id": "b9075710-33be-4256-9674-c417ab99ca79",
   "metadata": {},
   "outputs": [],
   "source": [
    "football = pd.read_csv(\"data/dataset - 2020-09-24.csv\")"
   ]
  },
  {
   "cell_type": "code",
   "execution_count": null,
   "id": "af3f3a01-fb06-4a3d-8a8a-424f3b2f466c",
   "metadata": {},
   "outputs": [],
   "source": [
    "#Overview of the whole dataset\n",
    "football"
   ]
  },
  {
   "cell_type": "code",
   "execution_count": null,
   "id": "8091e587-fea6-4a5e-9064-7151b2551852",
   "metadata": {},
   "outputs": [],
   "source": [
    "# to see the first 8 rows\n",
    "# To see the first N rows of a DataFrame, use the head() method with the required number of rows (in this case 8) as argument.\n",
    "football.head(8)"
   ]
  },
  {
   "cell_type": "code",
   "execution_count": null,
   "id": "a045597f-7dbe-4f91-ad7d-40ae454bdc12",
   "metadata": {},
   "outputs": [],
   "source": [
    "# Interested in the last N rows instead?\n",
    "# pandas also provides a tail() method.\n",
    "# For example, titanic.tail(10) will return the last 10 rows of the DataFrame.\n",
    "football.tail(2)"
   ]
  },
  {
   "cell_type": "code",
   "execution_count": null,
   "id": "a91e8dac-2a3b-43df-be4c-0a5e82c537a6",
   "metadata": {},
   "outputs": [],
   "source": [
    "# Check all the column datatypes\n",
    "football.dtypes"
   ]
  },
  {
   "cell_type": "code",
   "execution_count": null,
   "id": "0dbed678-6084-4c6e-90aa-412eaef74521",
   "metadata": {},
   "outputs": [],
   "source": [
    "# describes the numerical data in the dataset\n",
    "football.describe()"
   ]
  },
  {
   "cell_type": "code",
   "execution_count": null,
   "id": "a9cf7023-d833-437f-a68d-1dffac6a0f61",
   "metadata": {},
   "outputs": [],
   "source": [
    "#### Note ####\n",
    "# To read a file ---> read_* (replace * with the file to read)\n",
    "# To write a file ---> to_* (replace * with the output file)"
   ]
  },
  {
   "cell_type": "code",
   "execution_count": null,
   "id": "badf2904-f8b2-4837-b446-f805d2558fe8",
   "metadata": {},
   "outputs": [],
   "source": [
    "# Convert the dataset to a spreadsheet(.xlsx)\n",
    "football.to_excel(\"data/football.xlsx\", sheet_name=\"football data\", index=False)"
   ]
  },
  {
   "cell_type": "code",
   "execution_count": null,
   "id": "2833d39c-ae60-4b6a-83e4-aa4dd43a0b8c",
   "metadata": {},
   "outputs": [],
   "source": [
    "# Read the saved excel output\n",
    "excel_data = pd.read_excel(\"data/football.xlsx\", sheet_name=\"football data\")\n",
    "excel_data"
   ]
  },
  {
   "cell_type": "code",
   "execution_count": null,
   "id": "f3bba301-b6ff-4a72-a980-2a8831792ef2",
   "metadata": {},
   "outputs": [],
   "source": [
    "# Technical Summary of the dataFrame\n",
    "excel_data.info()"
   ]
  },
  {
   "cell_type": "code",
   "execution_count": null,
   "id": "4fc90328-310c-4b81-b8c7-7f1d9374737a",
   "metadata": {},
   "outputs": [],
   "source": [
    "# REMEMBER\n",
    "# Getting data in to pandas from many different file formats or data sources is supported by read_* functions.\n",
    "\n",
    "# Exporting data out of pandas is provided by different to_*methods.\n",
    "\n",
    "# The head/tail/info methods and the dtypes attribute are convenient for a first check."
   ]
  }
 ],
 "metadata": {
  "kernelspec": {
   "display_name": "Python 3 (ipykernel)",
   "language": "python",
   "name": "python3"
  },
  "language_info": {
   "codemirror_mode": {
    "name": "ipython",
    "version": 3
   },
   "file_extension": ".py",
   "mimetype": "text/x-python",
   "name": "python",
   "nbconvert_exporter": "python",
   "pygments_lexer": "ipython3",
   "version": "3.11.8"
  }
 },
 "nbformat": 4,
 "nbformat_minor": 5
}
